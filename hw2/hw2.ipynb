{
 "cells": [
  {
   "cell_type": "markdown",
   "metadata": {},
   "source": [
    "## Output of 1. Matrix Operations"
   ]
  },
  {
   "cell_type": "code",
   "execution_count": 2,
   "metadata": {},
   "outputs": [
    {
     "name": "stdout",
     "output_type": "stream",
     "text": [
      "D: [[ 8 10]\n",
      " [12 14]\n",
      " [16 18]]\n",
      "\n",
      "E: [[-6 -6]\n",
      " [-6 -6]\n",
      " [-6 -6]]\n",
      "\n",
      "F: [[ 5 11]\n",
      " [11 25]\n",
      " [17 39]]\n",
      "\n",
      "G: [[ 2  4]\n",
      " [ 6  8]\n",
      " [10 12]]\n"
     ]
    }
   ],
   "source": [
    "# Homework 2\n",
    "import numpy as np\n",
    "import matplotlib.pyplot as plt\n",
    "\n",
    "A = np.array([[1,2],\n",
    "     [3,4],\n",
    "     [5,6]])\n",
    "\n",
    "B = np.array([[7,8],\n",
    "     [9,10],\n",
    "     [11,12]])\n",
    "\n",
    "C = np.array([[1,3],\n",
    "     [2,4]])\n",
    "\n",
    "D = A + B\n",
    "print(\"D:\",D)\n",
    "\n",
    "E = A - B\n",
    "print(\"\\nE:\",E)\n",
    "\n",
    "F = np.dot(A,C)\n",
    "print(\"\\nF:\",F)\n",
    "\n",
    "G = 2* A\n",
    "print(\"\\nG:\",G)\n",
    "\n"
   ]
  },
  {
   "cell_type": "markdown",
   "metadata": {},
   "source": [
    "## Output for 2. Determinant and Inverse of a Matrix"
   ]
  },
  {
   "cell_type": "code",
   "execution_count": 4,
   "metadata": {},
   "outputs": [
    {
     "name": "stdout",
     "output_type": "stream",
     "text": [
      "Determinant: 10.000000000000002\n",
      "Inverse: [[ 0.6 -0.7]\n",
      " [-0.2  0.4]]\n"
     ]
    }
   ],
   "source": [
    "A = np.array([[4,7],[2,6]])\n",
    "d = np.linalg.det(A)\n",
    "if d == 0:\n",
    "    print(\"No Inverse (Determinant is zero)\")\n",
    "else:\n",
    "    print(\"Determinant:\", d)\n",
    "    print(\"Inverse:\", np.linalg.inv(A))"
   ]
  },
  {
   "cell_type": "markdown",
   "metadata": {},
   "source": [
    "## Output of 3. Solving Systems of Linear Equations"
   ]
  },
  {
   "cell_type": "code",
   "execution_count": 6,
   "metadata": {},
   "outputs": [
    {
     "name": "stdout",
     "output_type": "stream",
     "text": [
      "A: [[2 3]\n",
      " [4 1]]\n",
      "B: [[5]\n",
      " [6]]\n",
      "x: [[1.3]\n",
      " [0.8]]\n"
     ]
    }
   ],
   "source": [
    "# Systems of Equations\n",
    "A = np.array([[2,3],\n",
    "              [4,1]])\n",
    "B = np.array([[5],\n",
    "              [6]])\n",
    "x = np.linalg.solve(A,B)\n",
    "print(\"A:\", A)\n",
    "print(\"\\nB:\", B)\n",
    "print(\"\\nx:\", x)\n",
    "\n"
   ]
  },
  {
   "cell_type": "markdown",
   "metadata": {},
   "source": [
    "## Output of 4. Eigenvalues and Eigenvectors"
   ]
  },
  {
   "cell_type": "code",
   "execution_count": 8,
   "metadata": {},
   "outputs": [
    {
     "name": "stdout",
     "output_type": "stream",
     "text": [
      "Eigen Values: [2. 1.]\n",
      "Eigen Vectors: [[0.89442719 0.70710678]\n",
      " [0.4472136  0.70710678]]\n"
     ]
    }
   ],
   "source": [
    "A = np.array([[3, -2], [1,0]])\n",
    "w, v = np.linalg.eig(A)\n",
    "print(\"Eigen Values:\", w)\n",
    "print(\"Eigen Vectors:\", v)"
   ]
  },
  {
   "cell_type": "code",
   "execution_count": 10,
   "metadata": {},
   "outputs": [
    {
     "data": {
      "image/png": "[encoded data removed]",
      "text/plain": [
       "<Figure size 640x480 with 1 Axes>"
      ]
     },
     "metadata": {},
     "output_type": "display_data"
    }
   ],
   "source": [
    "# Step 1\n",
    "# Use parametric equation to create circle values\n",
    "theta = np.linspace(0, 2 * np.pi, 100)\n",
    "radius = 1\n",
    "a = radius * np.cos(theta)\n",
    "b = radius * np.sin(theta)\n",
    "\n",
    "# Pair x values with y values\n",
    "circPoints = zip(a,b)\n",
    "\n",
    "# Set up plot\n",
    "fig, ax = plt.subplots(1)\n",
    "ax.plot(a,b)\n",
    "ax.set_xlim([-5,5])\n",
    "ax.set_ylim([-5,5])\n",
    "ax.set_aspect(1)\n",
    "ax.grid()\n",
    "\n",
    "A = np.array([[3, -2], [1,0]])\n",
    "\n",
    "# Step 2\n",
    "# Multiply AX and plot points\n",
    "for x,y in circPoints:\n",
    "    c = np.array([[x],[y]])\n",
    "    sol = np.dot(A, c)\n",
    "    ax.plot(sol[0], sol[1], 'bo')\n",
    "\n",
    "# Step 3\n",
    "ev1  = np.array([[1],[2]])\n",
    "ev2  = np.array([[1],[1]])\n",
    "ax.plot(ev1[0], ev1[1], 'mo', label=\"eigen vector 1\")\n",
    "ax.plot(ev2[0], ev2[1], 'mo', label=\"eigen vector 2\")\n",
    "\n",
    "\n",
    "# Step 4\n",
    "v1 = ev1 * 2\n",
    "av1 = np.dot(A, ev1)\n",
    "av2 = np.dot(A, ev2)\n",
    "\n",
    "ax.plot(v1[0],v1[1], 'r+', label=r'$\\lambda$1v1')\n",
    "ax.plot(ev2[0],ev2[1], 'c+', label=r'$\\lambda$2v2')\n",
    "ax.plot(av1[0],av1[1], 'b+', label=\"Av1\")\n",
    "ax.plot(av2[0],av2[1], 'g+', label=\"Av2\")\n",
    "\n",
    "handles, labels = ax.get_legend_handles_labels()\n",
    "fig.legend(handles, labels, loc='upper right')\n",
    "\n",
    "plt.title(\"Unit Circle X Multiplied by Matrix A\")\n",
    "plt.show()"
   ]
  },
  {
   "cell_type": "markdown",
   "metadata": {},
   "source": [
    "## Output of 5. Singular Value Decomposition (SVD)"
   ]
  },
  {
   "cell_type": "code",
   "execution_count": 15,
   "metadata": {},
   "outputs": [
    {
     "name": "stdout",
     "output_type": "stream",
     "text": [
      "U: [[-0.3863177  -0.92236578]\n",
      " [-0.92236578  0.3863177 ]]\n",
      "\n",
      "S: [9.508032   0.77286964]\n",
      "\n",
      "V: [[-0.42866713 -0.56630692 -0.7039467 ]\n",
      " [ 0.80596391  0.11238241 -0.58119908]]\n"
     ]
    }
   ],
   "source": [
    "A = np.array([[1, 2, 3], [4, 5, 6]])\n",
    "U,S,V = np.linalg.svd(A)\n",
    "print(\"U:\", U)\n",
    "print(\"\\nS:\", S)\n",
    "print(\"\\nV:\", V)\n"
   ]
  }
 ],
 "metadata": {
  "kernelspec": {
   "display_name": "Python 3",
   "language": "python",
   "name": "python3"
  },
  "language_info": {
   "codemirror_mode": {
    "name": "ipython",
    "version": 3
   },
   "file_extension": ".py",
   "mimetype": "text/x-python",
   "name": "python",
   "nbconvert_exporter": "python",
   "pygments_lexer": "ipython3",
   "version": "3.11.9"
  }
 },
 "nbformat": 4,
 "nbformat_minor": 2
}
